{
  "nbformat": 4,
  "nbformat_minor": 0,
  "metadata": {
    "colab": {
      "name": "Bernoulli5ProtExperiment.ipynb",
      "provenance": [],
      "collapsed_sections": []
    },
    "kernelspec": {
      "name": "python3",
      "display_name": "Python 3"
    },
    "language_info": {
      "name": "python"
    },
    "accelerator": "GPU"
  },
  "cells": [
    {
      "cell_type": "code",
      "metadata": {
        "id": "wfQgBxnhuwXT"
      },
      "source": [
        "!git clone https://github.com/erhancanozcan/prot_opt.git\n",
        "#check beta distribution to set dual variables."
      ],
      "execution_count": null,
      "outputs": []
    },
    {
      "cell_type": "code",
      "metadata": {
        "id": "XzvZXdBlvbPS"
      },
      "source": [
        "#necessary imports\n",
        "import torch\n",
        "from torch.optim import Optimizer\n",
        "import os\n",
        "import datetime\n",
        "import math\n",
        "import numpy as np\n",
        "import matplotlib.pyplot as plt\n",
        "import random\n",
        "from numpy import inf\n",
        "import pandas as pd\n",
        "\n",
        "\n",
        "from prot_opt.code.xor_data_generate import produce_xor_and_candidates\n",
        "from prot_opt.code.xor_data_generate import plot_xor\n",
        "from prot_opt.code.xor_data_generate import generate_dual_pns\n",
        "from prot_opt.code.true_objective import true_loss\n",
        "from prot_opt.code.true_objective import estimated_loss\n",
        "from prot_opt.code.objective_plot import contour_plot \n",
        "from prot_opt.code.available_routines import routines"
      ],
      "execution_count": null,
      "outputs": []
    },
    {
      "cell_type": "code",
      "metadata": {
        "id": "gjnrifK9v8wX"
      },
      "source": [
        "candidates,df_class =produce_xor_and_candidates()\n",
        "f,ax= plot_xor(df_class)"
      ],
      "execution_count": null,
      "outputs": []
    },
    {
      "cell_type": "code",
      "metadata": {
        "id": "8y90nOQ4yYza"
      },
      "source": [
        "dist_names=['bernoulli_5']\n",
        "seed_list=np.arange(10)\n",
        "\n",
        "optimizers=[\"SGD_c_l_rate\",\"SGD_scale_by_ep\",\"SGD_adaptive\",\"SGD_with_Momentum\",\\\n",
        "            \"Adagrad\",\"Adam_sg\",\"Adam_full_batch\",\"GD_c_l_rate\",\"GD_scale_by_ep\",\"SVRG\"]\n",
        "    \n",
        "    \n",
        "\n",
        "naive_initialization=[True,False]\n",
        "\n",
        "learning_rate=[0.00001,0.0001,0.001,0.01,0.1]\n",
        "\n",
        "epoch=[10]\n",
        "#epoch=[20,50,100]\n",
        "\n",
        "momentum_list=[0.1]\n",
        "\n",
        "\n",
        "df = pd.DataFrame(columns=['Dual_dist','seed','Algorithm','naive_init','lr','epoch_num'\\\n",
        "                           ,'momentum','best_obj','max_grid_obj','max_data_obj'])\n",
        "\n",
        "\n",
        "cntr=0\n",
        "for dist in dist_names:\n",
        "    for seed in seed_list:\n",
        "        #genereta dual coefficients:\n",
        "        df_class,pos,neg,d_of_data,num_pairs,dual_pns=generate_dual_pns(df_class,dist,seed)\n",
        "        X,Y,Z=contour_plot(candidates,pos,neg,dual_pns)\n",
        "\n",
        "        #different initialization strategies: maximizier_data_point, maximizer_grid_point\n",
        "        Z_data_points=contour_plot(df_class[:,:2],pos,neg,dual_pns,no_grid=True)\n",
        "        \n",
        "        maximizer_data_point=df_class[np.argmax(Z_data_points),:2]\n",
        "        maximizer_grid_point=np.zeros(d_of_data,int)\n",
        "        for i in range (len(np.where(Z==np.max(Z)))):\n",
        "            maximizer_grid_point[i]=int((np.where(Z==np.max(Z)))[i][0])\n",
        "        maximizer_grid_point=np.array([X[maximizer_grid_point[0],maximizer_grid_point[1]],Y[maximizer_grid_point[0],maximizer_grid_point[1]]])\n",
        "        \n",
        "        data_point_obj=-np.max(Z_data_points)\n",
        "        grid_point_obj=-np.max(Z)\n",
        "        for opt in optimizers:\n",
        "            for nv_init in naive_initialization:\n",
        "                for lr in learning_rate:\n",
        "                    for ep in epoch:\n",
        "                        if opt==\"SGD_with_Momentum\":\n",
        "                            for momentum in momentum_list:\n",
        "                                routine1=routines(opt,l_rate=lr,epoch_no=ep,dual_pns=dual_pns,pos=pos,neg=neg,d_of_data=d_of_data,naive_initialization=nv_init,init_point=maximizer_data_point,betas=(0.9,0.999),alpha=momentum)\n",
        "                                s_trajectory1,cumul_loss1,s_trajectory2,cumul_loss2,best_s,tmp_min=routine1.run()\n",
        "                                tmp={'Dual_dist':dist,'seed':seed,'Algorithm':opt,\\\n",
        "                                     'naive_init':nv_init,'lr':lr,'epoch_num':ep\\\n",
        "                                      ,'momentum':momentum,'best_obj':tmp_min,\\\n",
        "                                     'max_grid_obj':grid_point_obj,'max_data_obj':data_point_obj}\n",
        "                                print(tmp)\n",
        "                                df = df.append(tmp, ignore_index = True)\n",
        "                                #print(cntr)\n",
        "                                cntr+=1\n",
        "                        else:\n",
        "                            routine1=routines(opt,l_rate=lr,epoch_no=ep,dual_pns=dual_pns,pos=pos,neg=neg,d_of_data=d_of_data,naive_initialization=nv_init,init_point=maximizer_data_point,betas=(0.9,0.999),alpha=0)\n",
        "                            s_trajectory1,cumul_loss1,s_trajectory2,cumul_loss2,best_s,tmp_min=routine1.run()\n",
        "                            tmp={'Dual_dist':dist,'seed':seed,'Algorithm':opt,\\\n",
        "                                     'naive_init':nv_init,'lr':lr,'epoch_num':ep\\\n",
        "                                      ,'momentum':'NA','best_obj':tmp_min,\\\n",
        "                                     'max_grid_obj':grid_point_obj,'max_data_obj':data_point_obj}\n",
        "                            print(tmp)\n",
        "                            df = df.append(tmp, ignore_index = True)\n",
        "                            #print(cntr)\n",
        "                            cntr+=1\n",
        "                            \n",
        "\n",
        "from google.colab import files\n",
        "\n",
        "df.to_csv('df.csv')\n",
        "files.download('df.csv')                        \n",
        "                        "
      ],
      "execution_count": null,
      "outputs": []
    },
    {
      "cell_type": "code",
      "metadata": {
        "id": "iRYgqq69J3FG"
      },
      "source": [
        "np.arange(10,20,1)"
      ],
      "execution_count": null,
      "outputs": []
    }
  ]
}